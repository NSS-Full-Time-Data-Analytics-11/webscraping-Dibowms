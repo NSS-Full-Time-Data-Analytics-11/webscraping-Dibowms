{
 "cells": [
  {
   "cell_type": "code",
   "execution_count": null,
   "id": "3ccf5cee",
   "metadata": {},
   "outputs": [],
   "source": [
    "import requests"
   ]
  },
  {
   "cell_type": "code",
   "execution_count": null,
   "id": "032749c4",
   "metadata": {},
   "outputs": [],
   "source": [
    "URL = 'https://realpython.github.io/fake-jobs/'\n",
    "\n",
    "response = requests.get(URL)"
   ]
  },
  {
   "cell_type": "code",
   "execution_count": null,
   "id": "e1a4f865",
   "metadata": {},
   "outputs": [],
   "source": [
    "response.status_code"
   ]
  },
  {
   "cell_type": "code",
   "execution_count": null,
   "id": "0884203d",
   "metadata": {},
   "outputs": [],
   "source": [
    "from bs4 import BeautifulSoup as BS"
   ]
  },
  {
   "cell_type": "code",
   "execution_count": null,
   "id": "9e4cd463",
   "metadata": {},
   "outputs": [],
   "source": [
    "soup = BS(response.text)"
   ]
  },
  {
   "cell_type": "code",
   "execution_count": null,
   "id": "e2f9f037",
   "metadata": {},
   "outputs": [],
   "source": [
    "soup.find('title')"
   ]
  },
  {
   "cell_type": "code",
   "execution_count": null,
   "id": "292fdcfd",
   "metadata": {},
   "outputs": [],
   "source": [
    "type(soup.find('title'))"
   ]
  },
  {
   "cell_type": "code",
   "execution_count": null,
   "id": "d5768381",
   "metadata": {},
   "outputs": [],
   "source": [
    "soup.find('title').text"
   ]
  },
  {
   "cell_type": "markdown",
   "id": "a95904e0",
   "metadata": {},
   "source": [
    " Use the .find method to find the tag containing the first job title (\"Senior Python Developer\"). Hint: can you find a tag type and/or a class that could be helpful for extracting this information? Extract the text from this title."
   ]
  },
  {
   "cell_type": "code",
   "execution_count": null,
   "id": "5d000e99",
   "metadata": {},
   "outputs": [],
   "source": [
    "spd=soup.find('h2').text"
   ]
  },
  {
   "cell_type": "code",
   "execution_count": null,
   "id": "92d85588",
   "metadata": {},
   "outputs": [],
   "source": [
    "spd"
   ]
  },
  {
   "cell_type": "markdown",
   "id": "38f35f75",
   "metadata": {},
   "source": [
    " Now, use what you did for the first title, but extract the job title for all jobs on this page. Store the results in a list."
   ]
  },
  {
   "cell_type": "code",
   "execution_count": null,
   "id": "d92a17ff",
   "metadata": {},
   "outputs": [],
   "source": [
    "alltitle=soup.findAll('h2')"
   ]
  },
  {
   "cell_type": "code",
   "execution_count": null,
   "id": "a2d83e9b",
   "metadata": {},
   "outputs": [],
   "source": [
    "alltitle"
   ]
  },
  {
   "cell_type": "code",
   "execution_count": null,
   "id": "648c9d71",
   "metadata": {},
   "outputs": [],
   "source": [
    "job_title= alltitle[0]\n",
    "print(type(job_title))\n",
    "job_title"
   ]
  },
  {
   "cell_type": "markdown",
   "id": "d7c019e5",
   "metadata": {},
   "source": [
    "Finally, extract the companies, locations, and posting dates for each job. For example, the first job has a company of \"Payne, Roberts and Davis\", a location of \"Stewartbury, AA\", and a posting date of \"2021-04-08\". Ensure that the text that you extract is clean, meaning no extra spaces or other characters at the beginning or end."
   ]
  },
  {
   "cell_type": "code",
   "execution_count": null,
   "id": "b0f40f5b",
   "metadata": {},
   "outputs": [],
   "source": [
    "company=soup.findAll('h3')"
   ]
  },
  {
   "cell_type": "code",
   "execution_count": null,
   "id": "9e18d221",
   "metadata": {},
   "outputs": [],
   "source": [
    "company=[x.text for x in company]"
   ]
  },
  {
   "cell_type": "code",
   "execution_count": null,
   "id": "a4c0f68d",
   "metadata": {},
   "outputs": [],
   "source": [
    "company"
   ]
  },
  {
   "cell_type": "code",
   "execution_count": null,
   "id": "bfa1fb91",
   "metadata": {},
   "outputs": [],
   "source": [
    "location=soup.findAll('p',attrs={'class' : 'location'})"
   ]
  },
  {
   "cell_type": "code",
   "execution_count": null,
   "id": "28e78e7f",
   "metadata": {},
   "outputs": [],
   "source": [
    "location=[x.text.strip() for x in location]"
   ]
  },
  {
   "cell_type": "code",
   "execution_count": null,
   "id": "5234baa0",
   "metadata": {},
   "outputs": [],
   "source": [
    "location"
   ]
  },
  {
   "cell_type": "code",
   "execution_count": null,
   "id": "f5993822",
   "metadata": {},
   "outputs": [],
   "source": [
    "    date_posted=soup.findAll('time',attrs={'datetime':'2021-04-08'})\n",
    "    date_posted"
   ]
  },
  {
   "cell_type": "code",
   "execution_count": null,
   "id": "3dde1cfe",
   "metadata": {},
   "outputs": [],
   "source": [
    "date_posted=[x.text for x in date_posted]\n",
    "date_posted"
   ]
  },
  {
   "cell_type": "code",
   "execution_count": null,
   "id": "02534485",
   "metadata": {},
   "outputs": [],
   "source": [
    "import pandas as pd"
   ]
  },
  {
   "cell_type": "code",
   "execution_count": null,
   "id": "ffebb1fb",
   "metadata": {},
   "outputs": [],
   "source": [
    "data = {\n",
    "    'job_title': job_title,\n",
    "    'company': company,\n",
    "    'location': location,\n",
    "    'date_posted': date_posted\n",
    "}"
   ]
  },
  {
   "cell_type": "code",
   "execution_count": null,
   "id": "09bf24ac",
   "metadata": {},
   "outputs": [],
   "source": [
    "jobs = pd.DataFrame(data)"
   ]
  },
  {
   "cell_type": "code",
   "execution_count": null,
   "id": "9cd70478",
   "metadata": {},
   "outputs": [],
   "source": [
    "jobs"
   ]
  },
  {
   "cell_type": "markdown",
   "id": "0c5fbdcd",
   "metadata": {},
   "source": [
    " add a column that contains the url for the \"Apply\" button"
   ]
  },
  {
   "cell_type": "code",
   "execution_count": null,
   "id": "81af3ba9",
   "metadata": {},
   "outputs": [],
   "source": [
    "tag_list=soup.findAll('a')"
   ]
  },
  {
   "cell_type": "code",
   "execution_count": null,
   "id": "7bb5be1b",
   "metadata": {},
   "outputs": [],
   "source": [
    "for tag in tag_list :\n",
    "    print(tag['href'])"
   ]
  },
  {
   "cell_type": "code",
   "execution_count": null,
   "id": "e3c225ec",
   "metadata": {},
   "outputs": [],
   "source": [
    "count = 0\n",
    "apply = []\n",
    "\n",
    "for tag in tag_list :\n",
    "    if count % 2 > 0 : \n",
    "        apply.append(tag['href'])\n",
    "    count+=1"
   ]
  },
  {
   "cell_type": "code",
   "execution_count": null,
   "id": "7e4b0054",
   "metadata": {},
   "outputs": [],
   "source": [
    "apply"
   ]
  },
  {
   "cell_type": "code",
   "execution_count": null,
   "id": "a872feb2",
   "metadata": {},
   "outputs": [],
   "source": [
    "data = {\n",
    "    'job_title': job_title,\n",
    "    'company': company,\n",
    "    'location': location,\n",
    "    'date_posted': date_posted\n",
    "    'apply': apply\n",
    "}"
   ]
  },
  {
   "cell_type": "code",
   "execution_count": null,
   "id": "4118fc8a",
   "metadata": {},
   "outputs": [],
   "source": []
  }
 ],
 "metadata": {
  "kernelspec": {
   "display_name": "Python 3 (ipykernel)",
   "language": "python",
   "name": "python3"
  },
  "language_info": {
   "codemirror_mode": {
    "name": "ipython",
    "version": 3
   },
   "file_extension": ".py",
   "mimetype": "text/x-python",
   "name": "python",
   "nbconvert_exporter": "python",
   "pygments_lexer": "ipython3",
   "version": "3.11.5"
  }
 },
 "nbformat": 4,
 "nbformat_minor": 5
}
